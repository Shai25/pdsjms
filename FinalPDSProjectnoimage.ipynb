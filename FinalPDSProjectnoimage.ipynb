{
 "cells": [
  {
   "cell_type": "markdown",
   "metadata": {
    "colab_type": "text",
    "id": "ftN1BHSrfVrn"
   },
   "source": [
    "# Predicting User Satisfaction from Product Reviews"
   ]
  },
  {
   "cell_type": "markdown",
   "metadata": {
    "colab_type": "text",
    "id": "mNtUe9TFfVrp"
   },
   "source": [
    "In this project, based on the reviews of a person about any product, we are predicting the user satisfaction on a scale of 1-5. A model will be created to get the user satisfaction, based on the reviews from any platform for phones."
   ]
  },
  {
   "cell_type": "markdown",
   "metadata": {
    "colab_type": "text",
    "id": "STAdSq5DfVrp"
   },
   "source": [
    "## DATA SCRAPING"
   ]
  },
  {
   "cell_type": "markdown",
   "metadata": {
    "colab_type": "text",
    "id": "ZFIx6r8ffVrq"
   },
   "source": [
    "The data has been captured from the BestBuy website using the WebScraper Google Chrome Extension. In the extension, a website-map has to be created to indicate what all elements need to be scraped. And then the extension would itself scrape all the data and save it as a `.csv` file. Our data file is titled \"pdsdata1.csv\".\n",
    "The followings item for each user review for phones on the BestBuy website were scraped:\n",
    " - __name__\t: The name of the user\n",
    " - __rating__: The rating given by the user to the product (on a scale of 1 to 5)\t\n",
    " - __header__: The title of the user review\t\n",
    " - __review__: The content of the user review\t\t\n",
    " - __will_recommend__: A bianry variable containing the user's choice of whether or not he will recomment the product to someone else\t\n",
    " - __is_helpful__: The number of \"thumbs-up\" given to the review by other users who think the review was useful.\t\n",
    " - __is_unhelpful__: The number of \"thumbs-down\" given to the review by other users who think the review was not useful.\n",
    " - __product__: The name of the product i.e the cellphone make and model\t\n",
    " - __product-price__: Price of the product (This was given as the total price for some phones and monthly cost for others. Therefore this variable could not be used in the model because of the inconsistency)\t\n",
    " - __average-rating__: The average user rating given to the product in question.\t\n",
    " - __num_reviews__: The total number of user reviews of the product. \n",
    " \n",
    " - __\"length_review\"__ is a variable created artificially. It denotes the number of characters in the product rview. "
   ]
  },
  {
   "cell_type": "code",
   "execution_count": 2,
   "metadata": {
    "colab": {
     "autoexec": {
      "startup": false,
      "wait_interval": 0
     }
    },
    "colab_type": "code",
    "collapsed": true,
    "id": "2-qAJqpCfVrs"
   },
   "outputs": [],
   "source": [
    "import nltk\n",
    "from collections import Counter\n",
    "import pandas as pd\n",
    "import string\n",
    "import numpy as np\n",
    "import sklearn"
   ]
  },
  {
   "cell_type": "code",
   "execution_count": 3,
   "metadata": {
    "colab": {
     "autoexec": {
      "startup": false,
      "wait_interval": 0
     }
    },
    "colab_type": "code",
    "collapsed": true,
    "id": "xBTJLKI3EAcx"
   },
   "outputs": [],
   "source": [
    "#Reading DATA FROM CSV FILE \n",
    "data = pd.read_csv(\"pdsdata1.csv\", encoding='utf-8', na_filter=False)"
   ]
  },
  {
   "cell_type": "markdown",
   "metadata": {
    "colab_type": "text",
    "id": "9H_kf1yDEAc6"
   },
   "source": [
    "## DATA CLEANING"
   ]
  },
  {
   "cell_type": "markdown",
   "metadata": {
    "colab_type": "text",
    "id": "WlY3zzGLEAc8"
   },
   "source": [
    "### REMOVING PUNCTUATION, CONVERTING TO LOWERCASE AND LEMMATIZING REVIEWS\n",
    "The \"process\" function takes the text, converts it to lowercase and then removes all the punctuation and apostrophes from the review data. \n",
    "The data is then split into words, each of which is lemmatized using the nltk.stem.wordnet.WordNetLemmatizer().\n",
    "The function returns a list of tokenized text. "
   ]
  },
  {
   "cell_type": "code",
   "execution_count": 4,
   "metadata": {
    "colab": {
     "autoexec": {
      "startup": false,
      "wait_interval": 0
     }
    },
    "colab_type": "code",
    "collapsed": true,
    "id": "92IqrSdAfVrv"
   },
   "outputs": [],
   "source": [
    "from nltk.tokenize import RegexpTokenizer\n",
    "import re\n",
    "\n",
    "def process(text, lemmatizer=nltk.stem.wordnet.WordNetLemmatizer()):\n",
    "    lemmas=[]\n",
    "    text=text.lower()\n",
    "    text = text.replace(\"'s\",\"\")\n",
    "    text = text.replace(\"'\",\"\")\n",
    "    translator = str.maketrans(string.punctuation, ' '*len(string.punctuation))\n",
    "    text=text.translate(translator)\n",
    "    tokens = nltk.word_tokenize(text)\n",
    "    for t in tokens:\n",
    "        try:\n",
    "            lemmas.append(lemmatizer.lemmatize(t))\n",
    "        except:\n",
    "            lemmas=lemmas\n",
    "    lemmas=[str(l) for l in lemmas]   \n",
    "    return lemmas"
   ]
  },
  {
   "cell_type": "markdown",
   "metadata": {
    "colab_type": "text",
    "id": "WwmVUYfLEAdE"
   },
   "source": [
    "### COUNTING UPPER CASE WORDS\n",
    "The \"process_all\" function has two functions:\n",
    "    1) It applies the \"process\" function described above, to the dataset.\n",
    "    2) It generates a new feature in the dataset, namely the 'uppercase_words_count'. This is merely a count of the number of words in each review that are typed in uppercase. We thought that text typed in uppercase usually depicts stronger feelings, so there might be an interaction effect of this feature on the relationship between reviews and rating.  \n",
    "    "
   ]
  },
  {
   "cell_type": "code",
   "execution_count": 5,
   "metadata": {
    "colab": {
     "autoexec": {
      "startup": false,
      "wait_interval": 0
     }
    },
    "colab_type": "code",
    "collapsed": true,
    "id": "BqZX2OGefVry"
   },
   "outputs": [],
   "source": [
    "def process_all(df, lemmatizer=nltk.stem.wordnet.WordNetLemmatizer()): \n",
    "    uppercount=[]\n",
    "\n",
    "    for rev in df['review']:\n",
    "        count=0\n",
    "        for word in rev.split():\n",
    "            if word.isupper():\n",
    "                count+=1\n",
    "        uppercount.append(count) \n",
    "    df['review']=df['review'].apply(process,lemmatizer)\n",
    "    df['uppercase_words_count']=uppercount\n",
    "    return df\n",
    "\n",
    "processed_reviews = process_all(data)"
   ]
  },
  {
   "cell_type": "markdown",
   "metadata": {
    "colab_type": "text",
    "id": "h9bfAtmnEAdO"
   },
   "source": [
    "### GETTING A LIST OF RARE WORDS\n",
    "The \"get_rare_words\" function prepares a list of rare words (words occuring less than twice in the entire text body). This list of rare words will be useful later on when added to 'stopwords' for removal during TFIDF vectorization."
   ]
  },
  {
   "cell_type": "code",
   "execution_count": 6,
   "metadata": {
    "colab": {
     "autoexec": {
      "startup": false,
      "wait_interval": 0
     }
    },
    "colab_type": "code",
    "collapsed": true,
    "id": "jKbtWbEtfVr1"
   },
   "outputs": [],
   "source": [
    "def get_rare_words(processed_reviews):\n",
    "    wd_list=[]\n",
    "    for i in processed_reviews['review']:\n",
    "        for j in i:\n",
    "            wd_list.append(j)\n",
    "    ctr=Counter(wd_list)\n",
    "    rarewds=[]\n",
    "    for a in ctr:\n",
    "        if ctr[a]<2:\n",
    "            rarewds.append(a)\n",
    "    rarewds.sort()\n",
    "    return rarewds\n",
    "\n",
    "rare_words = get_rare_words(processed_reviews)\n",
    "processed_reviews['review'] = processed_reviews['review'].apply(lambda x: str(\" \".join(x)))"
   ]
  },
  {
   "cell_type": "code",
   "execution_count": 7,
   "metadata": {
    "colab": {
     "autoexec": {
      "startup": false,
      "wait_interval": 0
     }
    },
    "colab_type": "code",
    "id": "trLk5-uIEAdU",
    "outputId": "7c1a9c4f-3447-4831-f2ab-1ebb2b6d8c41"
   },
   "outputs": [
    {
     "name": "stdout",
     "output_type": "stream",
     "text": [
      "web-scraper-order         object\n",
      "web-scraper-start-url     object\n",
      "Name                      object\n",
      "rating                     int64\n",
      "header                    object\n",
      "review                    object\n",
      "length_review              int64\n",
      "will_recommend             int64\n",
      "is_helpful                 int64\n",
      "is_unhelpful               int64\n",
      "product                   object\n",
      "product-price             object\n",
      "average-rating           float64\n",
      "num_reviews                int64\n",
      "uppercase_words_count      int64\n",
      "dtype: object\n"
     ]
    }
   ],
   "source": [
    "#change column datatypes\n",
    "processed_reviews['is_helpful']=processed_reviews['length_review'].astype('int64')\n",
    "processed_reviews['is_unhelpful']=processed_reviews['length_review'].astype('int64')\n",
    "print(processed_reviews.dtypes)"
   ]
  },
  {
   "cell_type": "markdown",
   "metadata": {},
   "source": [
    "## DATA VISUALISATION"
   ]
  },
  {
   "cell_type": "markdown",
   "metadata": {},
   "source": [
    "For the visualisation of the textual reviews, a wordcloud was created. The reviews scraped and cleaned were grouped by the ratings i.e. 1-5 and then the frequency wordcloud has been formed. The word cloud has been created using the WordCount package and displayed with the help of matplotlib. Following is the code for grouping the reviews and an example of the words for the reviews with a rating of 5."
   ]
  },
  {
   "cell_type": "code",
   "execution_count": 8,
   "metadata": {
    "collapsed": true
   },
   "outputs": [],
   "source": [
    "from wordcloud import WordCloud\n",
    "import matplotlib.pyplot as plt\n",
    "\n",
    "groups = processed_reviews.groupby('rating')\n",
    "groups = processed_reviews.groupby('rating')['review'].apply(' '.join).reset_index()\n",
    "words5 = groups['review'][5].split(\" \")\n",
    "text = ' '.join(words5)"
   ]
  },
  {
   "cell_type": "markdown",
   "metadata": {},
   "source": [
    "After the text has been created, a wordcloud is generated which is then displayed."
   ]
  },
  {
   "cell_type": "code",
   "execution_count": 9,
   "metadata": {},
   "outputs": [
    {
     "data": {
      "image/png": "[encoded data removed]",
      "text/plain": [
       "<matplotlib.figure.Figure at 0x1a1da9d320>"
      ]
     },
     "metadata": {},
     "output_type": "display_data"
    }
   ],
   "source": [
    "wordcloud = WordCloud().generate(text)\n",
    "plt.imshow(wordcloud, interpolation='bilinear')\n",
    "plt.axis(\"off\")\n",
    "plt.show()"
   ]
  },
  {
   "cell_type": "markdown",
   "metadata": {
    "colab_type": "text",
    "id": "iZc8EpbiEAdh"
   },
   "source": [
    "## DEVELOPING THE CLASSIFIER"
   ]
  },
  {
   "cell_type": "markdown",
   "metadata": {
    "colab_type": "text",
    "id": "VeRrWFzCOatd"
   },
   "source": [
    "The TD-IDF Vectorizer is used to get vector of TD-IDF scores of all the words in the cleaned reviews. The words are then split in to the 80:20 ratio as train and test dataset. Then, the model is trained using these TF-IDF scores and the Random Forest Classifier. "
   ]
  },
  {
   "cell_type": "code",
   "execution_count": 10,
   "metadata": {
    "colab": {
     "autoexec": {
      "startup": false,
      "wait_interval": 0
     }
    },
    "colab_type": "code",
    "collapsed": true,
    "id": "c5J129l-EAde"
   },
   "outputs": [],
   "source": [
    "from sklearn.model_selection import train_test_split\n",
    "import sklearn.ensemble as sk\n",
    "from sklearn.metrics import classification_report\n",
    "from sklearn.feature_extraction.text import TfidfVectorizer\n",
    "from sklearn.feature_extraction.text import CountVectorizer\n",
    "import pickle"
   ]
  },
  {
   "cell_type": "markdown",
   "metadata": {},
   "source": [
    "The different attributes associated with the RandomForest Classifier were also tried for getting the better accuracy and prevent overfitting of the model. Following are some of the attributes tried :\n",
    " - min_samples_split : This parameter indicates how many minimum number of samples are needed so that an additional split can take place. After trying various combinations, it turns out that a minimum split of 15 gives better results.\n",
    " - max_depth : This parameter indicates the maimum depth upto which the tree can grow. The default version works here because, there are so many words that any restriction on the depth won't classify properly.\n",
    " - n_estimators : This parameter indicated the number of trees that have to be formed to give the result. The default version has 10 trees. But, when the number of trees is increased to around 50, there is a better prediction and also an increase in the precision and recall score.\n",
    " \n",
    "There are various other parameters that can be used. After trying various combinations, other parameters didn't give very satisfactory results."
   ]
  },
  {
   "cell_type": "code",
   "execution_count": 11,
   "metadata": {
    "colab": {
     "autoexec": {
      "startup": false,
      "wait_interval": 0
     }
    },
    "colab_type": "code",
    "collapsed": true,
    "id": "12FPk7i4fVsG"
   },
   "outputs": [],
   "source": [
    "stopwords=nltk.corpus.stopwords.words('english')\n",
    "tfidf = TfidfVectorizer(stop_words=stopwords+rare_words)\n",
    "features = tfidf.fit_transform(processed_reviews['review'])\n",
    "categories = processed_reviews['rating']\n",
    "x, x_test, y, y_test = train_test_split(features,categories,test_size=0.2,train_size=0.8, random_state = 0)\n",
    "clf1 = sk.RandomForestClassifier(n_estimators=50, min_samples_split=15)\n",
    "clf1.fit(x, y)\n",
    "predicted = clf1.predict(x_test)"
   ]
  },
  {
   "cell_type": "markdown",
   "metadata": {},
   "source": [
    "## EVALUATING THE CLASSIFIER\n",
    "\n",
    "This model gave an accuracy of 80.5%. Also, a classification report has been found out from the model developed. \n",
    "\n",
    "The precision score i.e. fraction of correct positive labels detected over all the instances detected positive comes to around 80% on an average, which shows that the model detects positive when it is actually positive 4/5th of the times.\n",
    "\n",
    "The recall score i.e. fraction of correct positive labels detected over all the instances detected correctly is around 81% on an average."
   ]
  },
  {
   "cell_type": "code",
   "execution_count": 12,
   "metadata": {},
   "outputs": [
    {
     "name": "stdout",
     "output_type": "stream",
     "text": [
      "Accuracy :0.805252309337\n",
      "Classification Report:\n",
      "             precision    recall  f1-score   support\n",
      "\n",
      "          1       1.00      0.03      0.06       101\n",
      "          2       1.00      0.06      0.11       107\n",
      "          3       1.00      0.06      0.12       307\n",
      "          4       0.73      0.07      0.13      2190\n",
      "          5       0.81      1.00      0.89     10394\n",
      "\n",
      "avg / total       0.80      0.81      0.73     13099\n",
      "\n"
     ]
    }
   ],
   "source": [
    "acc = sklearn.metrics.accuracy_score(y_test, predicted)\n",
    "print(\"Accuracy :\"+str(acc))\n",
    "print(\"Classification Report:\")\n",
    "print(sklearn.metrics.classification_report(y_test, predicted))"
   ]
  },
  {
   "cell_type": "markdown",
   "metadata": {
    "colab_type": "text",
    "id": "Wyc8TlvUEAdz"
   },
   "source": [
    "### APPLICATION OF THE MODEL\n",
    "The model basically gives us a way to quantify user reviews and generate meaningful information and insights from them.\n",
    "\n",
    "As we can see, the model gives a pretty good accuracy on test data. The model can be used for sentiment analysis on social media, techblogs an other websites. By scraping user reviews, opinion pieces and comments and feeding them into the model, we can track the user satisfaction score for different cellphones.\n",
    "\n",
    "This can be used to compare the popularity of different models on different online media platforms, which could be representing specific segments of the population. Further, the data collected can be used to monitor trends in popularity of cellphones over time as new models and features are launched into the market. Market dynamics can be observed as people express their opinions on different makes and models."
   ]
  },
  {
   "cell_type": "markdown",
   "metadata": {
    "colab_type": "text",
    "id": "V5dhowVdY9n3"
   },
   "source": [
    "The model has been applied to real world data collected from Amazon cell phone reviews and  tech blogs like Tech Crunch. The results obtained seem believable. In order to evaluate the performance of our model on real world data, first the TFIDF vectors of the whole corpus of words in the dataset has to be saved in a pickle file."
   ]
  },
  {
   "cell_type": "code",
   "execution_count": 13,
   "metadata": {
    "colab": {
     "autoexec": {
      "startup": false,
      "wait_interval": 0
     }
    },
    "colab_type": "code",
    "collapsed": true,
    "id": "T23R24kQYb-c"
   },
   "outputs": [],
   "source": [
    "corpus = processed_reviews['review']\n",
    "vectorizer = TfidfVectorizer(stop_words=stopwords+rare_words)\n",
    "vec_train = vectorizer.fit_transform(corpus)\n",
    "#Save vectorizer.vocabulary_\n",
    "pickle.dump(vectorizer.vocabulary_,open(\"feature.pkl\",\"wb\"))"
   ]
  },
  {
   "cell_type": "markdown",
   "metadata": {
    "colab_type": "text",
    "id": "A8nQ1fcm6H4c"
   },
   "source": [
    "The test data is vectorized using TFIDFVectorizer along with the trained data vocabulary pickel file loaded into it. Then the prediction can be made on the TFIDF vectors of the test data words using model trained above."
   ]
  },
  {
   "cell_type": "code",
   "execution_count": 14,
   "metadata": {
    "colab": {
     "autoexec": {
      "startup": false,
      "wait_interval": 0
     }
    },
    "colab_type": "code",
    "id": "r-ltwElLfVsI",
    "outputId": "bf2d83d7-c3f0-4d81-f448-187a18f86579"
   },
   "outputs": [
    {
     "name": "stdout",
     "output_type": "stream",
     "text": [
      "[5 4 5 5]\n"
     ]
    }
   ],
   "source": [
    "review_test=['So so,So far I like it but want to contact samsung on freezing issues.','I hate this phone. Not user friendly. very low volume. speaker doesnt work. Not useful. not good. bad','I love this phone! I upgraded from an iPhone 7. I would have to say this is one of the best iPhones I have ever had, and I upgrade every year. The camera is bomb.com. The portrait mode is pretty cool, and even the front facing camera seems to be more clear, (less grainy). The screen is brighter, the true tone display really makes a difference on the screen. This phone is way faster than my 7. The speakers are louder also. This phone has a lot of the same specs as the upcoming iPhone x, but still feels like an iPhone. I was going to get the x, but decided that I would wait until the next generation of that phone. If you can get most of the same specs as iPhone x for less, combined with the familiarity and reliability of the iPhone we are used to, why not do that?', 'I love the phone']\n",
    "testdf = pd.DataFrame(columns=['review'])\n",
    "testdf['review'] = review_test\n",
    "process_testdf = process_all(testdf)\n",
    "process_testdf['review'] = process_testdf['review'].apply(lambda x: str(\" \".join(x)))\n",
    "tfidf1 = TfidfVectorizer(vocabulary=pickle.load(open(\"feature.pkl\", \"rb\")))\n",
    "\n",
    "features1 = tfidf1.fit_transform(process_testdf['review'])\n",
    "predictedd = clf1.predict(features1)\n",
    "print(predictedd)"
   ]
  },
  {
   "cell_type": "markdown",
   "metadata": {
    "colab_type": "text",
    "id": "wh3FLLjjEAd5"
   },
   "source": [
    "## EXTENDING THE MODEL\n",
    "Even though the model predicts with reasonable accuracy, it might be a good idea to incorporate the other features we got from scraping BestBuy reviews into the model to see if they can increase the predictive power. Even though this section will not be generalizable to reviews taken from the social media or in fact any other source that is not BestBuy, it will give us a good idea of how much better we can model the relationship between a user's words and his satisfaction level with the product, given a variety of other variables."
   ]
  },
  {
   "cell_type": "markdown",
   "metadata": {
    "colab_type": "text",
    "id": "ZEdyXBt5EAd6"
   },
   "source": [
    "### GENERATING DUMMY VARIABLES FOR THE PRODUCT MANUFACTURER\n",
    "A variable describing the make of the phone might have an interaction effect on the relationship between reviews and ratings. This is because different companies e.g Apple and Samsung cater to a different segment of the population. \n",
    "The \"product\" feature in the data is broken down using the \"splits\" function and the brand name is extracted. \n",
    "Dummy variables are then generated to include the brand as a categorical variable in the model. \n",
    "\n",
    "Here, the product names from the data collected is split for the first word which is the company we are considering. Then, the dummies are created i.e. new columns are created for each company with a value 1 if the particular row belongs to that product else 0. This is done using the pandas `get_dummies()`."
   ]
  },
  {
   "cell_type": "code",
   "execution_count": 15,
   "metadata": {
    "colab": {
     "autoexec": {
      "startup": false,
      "wait_interval": 0
     }
    },
    "colab_type": "code",
    "collapsed": true,
    "id": "56r0hpHGfVr9"
   },
   "outputs": [],
   "source": [
    "def strips(s):\n",
    "    return s.strip().split('-')[0].strip()\n",
    "\n",
    "processed_reviews['product']=processed_reviews['product'].apply(strips)\n",
    "dum=pd.get_dummies(processed_reviews['product'])\n",
    "dum.drop(['null'],axis=1)\n",
    "\n",
    "processed_reviews = pd.concat([processed_reviews, dum], axis=1)"
   ]
  },
  {
   "cell_type": "markdown",
   "metadata": {
    "colab_type": "text",
    "id": "nu6UHoP81oa7"
   },
   "source": [
    "### FINDING BEST FEATURES FROM THE DATA \n",
    "\n",
    "There are various features in the scraped data available which may be useful for prediction of the user satisfaction. Hence, the features which affect the rating most can be found out. \n",
    "\n",
    "First of all, the features are combined using the DataFrameMapper class of the `sklearn-pandas` library. This is basically used when there are various transformations that need to be applied, for example: TFIDF transformation to the text data.  "
   ]
  },
  {
   "cell_type": "code",
   "execution_count": 16,
   "metadata": {
    "colab": {
     "autoexec": {
      "startup": false,
      "wait_interval": 0
     }
    },
    "colab_type": "code",
    "collapsed": true,
    "id": "k0u_q7qUfVr_"
   },
   "outputs": [],
   "source": [
    "from sklearn.model_selection import train_test_split\n",
    "from sklearn.naive_bayes import MultinomialNB\n",
    "from sklearn_pandas import DataFrameMapper, cross_val_score\n",
    "import sklearn.ensemble as sk\n",
    "from sklearn.metrics import classification_report\n",
    "from sklearn.feature_extraction.text import TfidfVectorizer\n",
    "from sklearn.feature_selection import SelectFromModel\n",
    "from sklearn.ensemble import ExtraTreesClassifier\n",
    "\n",
    "\n",
    "stopwords=nltk.corpus.stopwords.words('english')\n",
    "stopwords+=rare_words\n",
    "mapper = DataFrameMapper([\n",
    "     ('length_review', None),\n",
    "    ('will_recommend',None),\n",
    "     ('is_helpful',None),\n",
    "      ('is_unhelpful',None),\n",
    "    ('Apple',None),\n",
    "    ('Samsung',None),\n",
    "    ('Sony',None),\n",
    "     ('average-rating',None),\n",
    "    ('num_reviews',None),\n",
    "    ('uppercase_words_count',None),\n",
    " ])\n",
    "\n",
    "features = mapper.fit_transform(processed_reviews)\n",
    "categories = processed_reviews['rating']\n",
    "x, x_test, y, y_test = train_test_split(features,categories,test_size=0.2,train_size=0.8, random_state = 0)"
   ]
  },
  {
   "cell_type": "markdown",
   "metadata": {
    "colab_type": "text",
    "id": "KLlzYRGh3FIA"
   },
   "source": [
    "Now, using the feature\\_importances\\_  attribute of the classifier, we get the probabilities of the importance of the features. Then to select the best model i.e. which features to include based on the probabilities is done by the SelectFromModel library of the sklearn package. The get_support() function gives a boolean indication of whether to choose that fetaure or no."
   ]
  },
  {
   "cell_type": "code",
   "execution_count": 17,
   "metadata": {
    "colab": {
     "autoexec": {
      "startup": false,
      "wait_interval": 0
     }
    },
    "colab_type": "code",
    "id": "e9QEiuG9EAeE"
   },
   "outputs": [
    {
     "name": "stdout",
     "output_type": "stream",
     "text": [
      "[ 0.15636468  0.11966104  0.15648453  0.15353238  0.00930863  0.00861996\n",
      "  0.00151556  0.02677058  0.21397392  0.15376871]\n"
     ]
    },
    {
     "data": {
      "text/plain": [
       "array([ True,  True,  True,  True, False, False, False, False,  True,  True], dtype=bool)"
      ]
     },
     "execution_count": 17,
     "metadata": {},
     "output_type": "execute_result"
    }
   ],
   "source": [
    "clf2=sk.RandomForestClassifier(random_state=0)\n",
    "\n",
    "clf2.fit(x, y)\n",
    "print(clf2.feature_importances_ )\n",
    "model = SelectFromModel(clf2, prefit=True)\n",
    "\n",
    "predicted = model.transform(x_test)\n",
    "\n",
    "model.get_support()"
   ]
  },
  {
   "cell_type": "markdown",
   "metadata": {
    "colab_type": "text",
    "id": "sPdf3dYy5zSK"
   },
   "source": [
    "Based on the output from the previous step, a new mapper is created with the tfidf features as well as the new features selected and again a RandomForest classifier is built."
   ]
  },
  {
   "cell_type": "code",
   "execution_count": 18,
   "metadata": {
    "colab": {
     "autoexec": {
      "startup": false,
      "wait_interval": 0
     }
    },
    "colab_type": "code",
    "collapsed": true,
    "id": "nFIbSfr5fVsD"
   },
   "outputs": [],
   "source": [
    "mapper2 = DataFrameMapper([\n",
    "     ('review', TfidfVectorizer(stop_words=stopwords+rare_words)),\n",
    "     ('length_review', None),\n",
    "     ('will_recommend', None),\n",
    "     ('header', TfidfVectorizer(stop_words=stopwords)),\n",
    "     ('is_helpful', None),\n",
    "     ('is_unhelpful', None),\n",
    "     ('num_reviews', None),\n",
    "     ('uppercase_words_count', None)\n",
    " ])\n",
    "\n",
    "\n",
    "features = mapper2.fit_transform(processed_reviews)\n",
    "categories = processed_reviews['rating']\n",
    "x, x_test, y, y_test = train_test_split(features,categories,test_size=0.2,train_size=0.8, random_state = 0)\n"
   ]
  },
  {
   "cell_type": "code",
   "execution_count": 21,
   "metadata": {
    "colab": {
     "autoexec": {
      "startup": false,
      "wait_interval": 0
     }
    },
    "colab_type": "code",
    "collapsed": true,
    "id": "OCiqxs9eEAeM"
   },
   "outputs": [],
   "source": [
    "clf3 = sk.RandomForestClassifier(n_estimators=20)\n",
    "clf3.fit(x, y)\n",
    "\n",
    "predicted = clf3.predict(x_test)\n"
   ]
  },
  {
   "cell_type": "markdown",
   "metadata": {
    "colab_type": "text",
    "id": "phyfolVB7jP2"
   },
   "source": [
    "The new classifier created gives an accuracy of 82% which is slightly more then what received earlier but is very comparable."
   ]
  },
  {
   "cell_type": "code",
   "execution_count": 23,
   "metadata": {
    "colab": {
     "autoexec": {
      "startup": false,
      "wait_interval": 0
     }
    },
    "colab_type": "code",
    "id": "7uEjf_s7EAeO",
    "outputId": "47bf7d88-f698-4b45-d7cb-11135b2fe56e"
   },
   "outputs": [
    {
     "name": "stdout",
     "output_type": "stream",
     "text": [
      "[5 5 5 ..., 5 5 5]\n",
      "0.820520650431\n"
     ]
    }
   ],
   "source": [
    "print(predicted)\n",
    "acc = sklearn.metrics.accuracy_score(y_test, predicted)\n",
    "print(acc)"
   ]
  },
  {
   "cell_type": "markdown",
   "metadata": {},
   "source": [
    "## CONCLUSION\n",
    "\n",
    " - The extensions proved that adding features doesn’t improve accuracy too much.\n",
    " - Thus, for predicting user satisfaction from customer reviews, our first model proved to be good enough.\n"
   ]
  }
 ],
 "metadata": {
  "colab": {
   "collapsed_sections": [],
   "default_view": {},
   "name": "REPORT WITH COMMENTARY.ipynb",
   "provenance": [],
   "version": "0.3.2",
   "views": {}
  },
  "kernelspec": {
   "display_name": "Python 3",
   "language": "python",
   "name": "python3"
  },
  "language_info": {
   "codemirror_mode": {
    "name": "ipython",
    "version": 3
   },
   "file_extension": ".py",
   "mimetype": "text/x-python",
   "name": "python",
   "nbconvert_exporter": "python",
   "pygments_lexer": "ipython3",
   "version": "3.6.3"
  }
 },
 "nbformat": 4,
 "nbformat_minor": 1
}
